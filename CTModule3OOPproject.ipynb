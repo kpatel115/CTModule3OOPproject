{
 "cells": [
  {
   "cell_type": "code",
   "execution_count": 2,
   "id": "8bfecf85",
   "metadata": {},
   "outputs": [],
   "source": [
    "'''\n",
    "This program is made to be an automated rental property calculator.\n",
    "It will calculate his rental property ROI\n",
    "Author: Karan Patel\n",
    "'''\n",
    "\n",
    "class RentalCalc():\n",
    "    def __init__(self):\n",
    "        self.income = 0\n",
    "        self.expense = 0\n",
    "        self.cashFlow = 0\n",
    "        self.cashonCashROI = 0\n",
    "\n",
    "    def getIncome(self):\n",
    "        rental = int(input(\"How much do you pay monthly rent?\"))\n",
    "        laundry = int(input(\"How much do you pay monthly laundry?\"))\n",
    "        storage = int(input(\"How much do you pay monthly storage?\"))\n",
    "        misc = int(input(\"How much do you pay monthly misc?\"))\n",
    "        income = rental + laundry + storage + misc\n",
    "        return income\n",
    "        #print(f\"Your total monthly income is: {income}\")\n",
    "\n",
    "    def getExpense(self):\n",
    "        tax = int(input(\"How much do you pay monthly tax?\"))\n",
    "        insurance = int(input(\"How much do you pay monthly insurance?\"))\n",
    "        util = int(input(\"How much do you pay monthly utilitiest?\"))\n",
    "        vacancy = int(input(\"How much do you pay monthly vacancy?\"))\n",
    "        repairs = int(input(\"How much do you pay monthly repairs?\"))\n",
    "        capEx = int(input(\"How much do you pay monthly capEx?\"))\n",
    "        management = int(input(\"How much do you pay monthly property management?\"))\n",
    "        mortgage = int(input(\"How much do you pay monthly mortgage?\"))\n",
    "        expense = tax + insurance + util + vacancy + repairs + capEx + management + mortgage\n",
    "        return expense\n",
    "        #print(f\"Your monthly expenses are: {expense}\")\n",
    "\n",
    "    def getCashFlow(self, income, expense):\n",
    "        cashFlow = int(income) - int(expense)\n",
    "        return cashFlow\n",
    "        #print(f\"Your monthly cash flow is: {cashFlow}\")\n",
    "\n",
    "    def getCashonCashROI(self, cashFlow):\n",
    "        downPayment = input(\"How much was your down payment\")\n",
    "        closingCost = input(\"How much was your closing cost?\")\n",
    "        rehabBudget = input(\"How much was your rehab budget\")\n",
    "        miscOther = input(\"How much was your misc expenses?\")\n",
    "        totalInvestment = int(downPayment) + int(closingCost) + int(rehabBudget) + int(miscOther) \n",
    "        annualCashFlow = int(cashFlow) * 12\n",
    "        cashonCashROI = int(annualCashFlow)/int(totalInvestment)\n",
    "        print(f\"Total Investment: {totalInvestment}\")\n",
    "        print(f\"Annual Cash Flow: {annualCashFlow}\")\n",
    "        print(f\"Your Cash on Cash ROI: {cashonCashROI}\")"
   ]
  },
  {
   "cell_type": "code",
   "execution_count": 3,
   "id": "6d285231",
   "metadata": {},
   "outputs": [
    {
     "name": "stdout",
     "output_type": "stream",
     "text": [
      "How much do you pay monthly rent?2000\n",
      "How much do you pay monthly laundry?0\n",
      "How much do you pay monthly storage?0\n",
      "How much do you pay monthly misc?0\n",
      "How much do you pay monthly tax?150\n",
      "How much do you pay monthly insurance?100\n",
      "How much do you pay monthly utilitiest?0\n",
      "How much do you pay monthly vacancy?100\n",
      "How much do you pay monthly repairs?100\n",
      "How much do you pay monthly capEx?100\n",
      "How much do you pay monthly property management?860\n",
      "How much do you pay monthly mortgage?200\n",
      "How much was your down payment40000\n",
      "How much was your closing cost?3000\n",
      "How much was your rehab budget7000\n",
      "How much was your misc expenses?0\n",
      "Total Investment: 50000\n",
      "Annual Cash Flow: 4680\n",
      "Your Cash on Cash ROI: 0.0936\n"
     ]
    }
   ],
   "source": [
    "karan = RentalCalc()\n",
    "income = karan.getIncome()\n",
    "expense = karan.getExpense()\n",
    "cashFlow = karan.getCashFlow(income,expense)\n",
    "karan.getCashonCashROI(cashFlow)\n",
    "\n",
    "\n",
    "# # test run \n",
    "# income = Income(2000,0,0,0)\n",
    "# expense = Expense(150,100,0,100,100,100,860,200)\n",
    "\n",
    "# totalIncome = income.totalIncome\n",
    "\n",
    "# totalExpense = expense.totalExpenses\n",
    "\n",
    "# cashFlow = CashFlow(totalIncome, totalExpense)\n",
    "\n",
    "# TotCashFlow = cashFlow.totalCashFlow\n",
    "\n",
    "# totalInvestment = CashonCashROI(40000,3000,7000,0).investment\n",
    "# RentalCalc(cashFlow,totalInvestment).displayROI\n"
   ]
  },
  {
   "cell_type": "code",
   "execution_count": null,
   "id": "e8e7f292",
   "metadata": {},
   "outputs": [],
   "source": []
  }
 ],
 "metadata": {
  "kernelspec": {
   "display_name": "Python 3 (ipykernel)",
   "language": "python",
   "name": "python3"
  },
  "language_info": {
   "codemirror_mode": {
    "name": "ipython",
    "version": 3
   },
   "file_extension": ".py",
   "mimetype": "text/x-python",
   "name": "python",
   "nbconvert_exporter": "python",
   "pygments_lexer": "ipython3",
   "version": "3.11.4"
  }
 },
 "nbformat": 4,
 "nbformat_minor": 5
}
